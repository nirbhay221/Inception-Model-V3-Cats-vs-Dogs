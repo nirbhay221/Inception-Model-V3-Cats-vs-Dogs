{
  "nbformat": 4,
  "nbformat_minor": 0,
  "metadata": {
    "colab": {
      "name": "Untitled55.ipynb",
      "provenance": [],
      "collapsed_sections": []
    },
    "kernelspec": {
      "name": "python3",
      "display_name": "Python 3"
    },
    "accelerator": "TPU"
  },
  "cells": [
    {
      "cell_type": "code",
      "metadata": {
        "id": "_K4SiM-4FUWD"
      },
      "source": [
        "import tensorflow as tf\n",
        "import numpy as np\n",
        "import matplotlib.pyplot"
      ],
      "execution_count": null,
      "outputs": []
    },
    {
      "cell_type": "code",
      "metadata": {
        "id": "6hslgAt8GHmL",
        "outputId": "ccfe9a24-824a-4dae-e712-be34017e6588",
        "colab": {
          "base_uri": "https://localhost:8080/"
        }
      },
      "source": [
        "\n",
        "!wget --no-check-certificate \\\n",
        "    https://storage.googleapis.com/mledu-datasets/inception_v3_weights_tf_dim_ordering_tf_kernels_notop.h5 \\\n",
        "    -O /tmp/inception_v3_weights_tf_dim_ordering_tf_kernels_notop.h5\n",
        "  "
      ],
      "execution_count": null,
      "outputs": [
        {
          "output_type": "stream",
          "text": [
            "--2020-11-05 21:40:36--  https://storage.googleapis.com/mledu-datasets/inception_v3_weights_tf_dim_ordering_tf_kernels_notop.h5\n",
            "Resolving storage.googleapis.com (storage.googleapis.com)... 142.250.125.128, 74.125.124.128, 172.217.212.128, ...\n",
            "Connecting to storage.googleapis.com (storage.googleapis.com)|142.250.125.128|:443... connected.\n",
            "HTTP request sent, awaiting response... 200 OK\n",
            "Length: 87910968 (84M) [application/x-hdf]\n",
            "Saving to: ‘/tmp/inception_v3_weights_tf_dim_ordering_tf_kernels_notop.h5’\n",
            "\n",
            "/tmp/inception_v3_w 100%[===================>]  83.84M   102MB/s    in 0.8s    \n",
            "\n",
            "2020-11-05 21:40:37 (102 MB/s) - ‘/tmp/inception_v3_weights_tf_dim_ordering_tf_kernels_notop.h5’ saved [87910968/87910968]\n",
            "\n"
          ],
          "name": "stdout"
        }
      ]
    },
    {
      "cell_type": "code",
      "metadata": {
        "id": "EdTydmTfGOEU"
      },
      "source": [
        "from tensorflow.keras import Model\n",
        "from tensorflow.keras import layers"
      ],
      "execution_count": null,
      "outputs": []
    },
    {
      "cell_type": "code",
      "metadata": {
        "id": "hQ3t1_QQGTag"
      },
      "source": [
        "local_weights_file = '/tmp/inception_v3_weights_tf_dim_ordering_tf_kernels_notop.h5'"
      ],
      "execution_count": null,
      "outputs": []
    },
    {
      "cell_type": "code",
      "metadata": {
        "id": "TEM8WaQuHnTo"
      },
      "source": [
        "from tensorflow.keras.applications.inception_v3 import InceptionV3"
      ],
      "execution_count": null,
      "outputs": []
    },
    {
      "cell_type": "code",
      "metadata": {
        "id": "lN_UzNhBHth_"
      },
      "source": [
        "pre_trained_model = InceptionV3(input_shape=(150,150,3),\n",
        "                                weights = None,\n",
        "                                include_top = False)"
      ],
      "execution_count": null,
      "outputs": []
    },
    {
      "cell_type": "code",
      "metadata": {
        "id": "VIjbCcRgIDWI"
      },
      "source": [
        "pre_trained_model.load_weights(local_weights_file)"
      ],
      "execution_count": null,
      "outputs": []
    },
    {
      "cell_type": "code",
      "metadata": {
        "id": "euWbNWqxIGYf"
      },
      "source": [
        "for layer in pre_trained_model.layers:\n",
        "  layer.trainable =False"
      ],
      "execution_count": null,
      "outputs": []
    },
    {
      "cell_type": "code",
      "metadata": {
        "id": "ktvDYFHBJEtB"
      },
      "source": [
        "last_layer = pre_trained_model.get_layer('mixed7')\n",
        "last_layer_output = last_layer.output"
      ],
      "execution_count": null,
      "outputs": []
    },
    {
      "cell_type": "code",
      "metadata": {
        "id": "ngq1sNjxJUCw"
      },
      "source": [
        "from tensorflow.keras.optimizers import RMSprop"
      ],
      "execution_count": null,
      "outputs": []
    },
    {
      "cell_type": "code",
      "metadata": {
        "id": "1B4HhALsJbDR"
      },
      "source": [
        "x= layers.Flatten()(last_layer_output)\n",
        "x = layers.Dense(1024,activation='relu')(x)\n",
        "x= layers.Dropout(0.2)(x)\n",
        "x= layers.Dense(1,activation='sigmoid')(x)\n",
        "model =Model(pre_trained_model.input,x)\n",
        "model.compile(loss= 'binary_crossentropy',optimizer = RMSprop(lr=0.0001),metrics = ['accuracy'])"
      ],
      "execution_count": null,
      "outputs": []
    },
    {
      "cell_type": "code",
      "metadata": {
        "id": "gHgZ0M0rKEAv",
        "outputId": "44784ed2-8dd9-4683-91d2-4248c142addd",
        "colab": {
          "base_uri": "https://localhost:8080/"
        }
      },
      "source": [
        "!wget --no-check-certificate \\\n",
        "        https://storage.googleapis.com/mledu-datasets/cats_and_dogs_filtered.zip \\\n",
        "       -O /tmp/cats_and_dogs_filtered.zip"
      ],
      "execution_count": null,
      "outputs": [
        {
          "output_type": "stream",
          "text": [
            "--2020-11-05 21:40:43--  https://storage.googleapis.com/mledu-datasets/cats_and_dogs_filtered.zip\n",
            "Resolving storage.googleapis.com (storage.googleapis.com)... 172.217.212.128, 172.217.214.128, 108.177.111.128, ...\n",
            "Connecting to storage.googleapis.com (storage.googleapis.com)|172.217.212.128|:443... connected.\n",
            "HTTP request sent, awaiting response... 200 OK\n",
            "Length: 68606236 (65M) [application/zip]\n",
            "Saving to: ‘/tmp/cats_and_dogs_filtered.zip’\n",
            "\n",
            "/tmp/cats_and_dogs_ 100%[===================>]  65.43M  67.7MB/s    in 1.0s    \n",
            "\n",
            "2020-11-05 21:40:44 (67.7 MB/s) - ‘/tmp/cats_and_dogs_filtered.zip’ saved [68606236/68606236]\n",
            "\n"
          ],
          "name": "stdout"
        }
      ]
    },
    {
      "cell_type": "code",
      "metadata": {
        "id": "FmY22nSxL5L5"
      },
      "source": [
        "import zipfile\n",
        "local_dir = '/tmp/cats_and_dogs_filtered.zip'\n",
        "zip_ref= zipfile.ZipFile(local_dir,'r')\n",
        "zip_ref.extractall('/tmp')\n",
        "zip_ref.close()"
      ],
      "execution_count": null,
      "outputs": []
    },
    {
      "cell_type": "code",
      "metadata": {
        "id": "7T_oNzmaOF8g"
      },
      "source": [
        "base_dir = '/tmp/cats_and_dogs_filtered'"
      ],
      "execution_count": null,
      "outputs": []
    },
    {
      "cell_type": "code",
      "metadata": {
        "id": "jBjNxOqoOmJC"
      },
      "source": [
        "import os\n",
        "train_dir = os.path.join(base_dir,'train')\n",
        "valid_dir = os.path.join(base_dir,'validation')"
      ],
      "execution_count": null,
      "outputs": []
    },
    {
      "cell_type": "code",
      "metadata": {
        "id": "da92YGq7O60R"
      },
      "source": [
        "train_cats_dir =os.path.join(train_dir,'cats')\n",
        "train_dogs_dir=os.path.join(train_dir,'dogs')\n",
        "valid_cats_dir=os.path.join(valid_dir,'cats')\n",
        "valid_dogs_dir=os.path.join(valid_dir,'dogs')"
      ],
      "execution_count": null,
      "outputs": []
    },
    {
      "cell_type": "code",
      "metadata": {
        "id": "vaK1qfy3QKgc"
      },
      "source": [
        "from tensorflow.keras.preprocessing.image import ImageDataGenerator\n",
        "train_datagen = ImageDataGenerator(rescale= 1.0/255.,\n",
        "                                   zoom_range=0.2,\n",
        "                                   shear_range=0.2,\n",
        "                                   width_shift_range= 0.2,\n",
        "                                   height_shift_range =0.2,\n",
        "                                   rotation_range= 40,\n",
        "                                   fill_mode= 'nearest',\n",
        "                                   horizontal_flip=True)"
      ],
      "execution_count": null,
      "outputs": []
    },
    {
      "cell_type": "code",
      "metadata": {
        "id": "l3v8pyJFR4jF"
      },
      "source": [
        "valid_datagen = ImageDataGenerator(rescale = 1.0/255.)"
      ],
      "execution_count": null,
      "outputs": []
    },
    {
      "cell_type": "code",
      "metadata": {
        "id": "KtvYGDEoSl8q",
        "outputId": "e4c19a38-66f8-45d6-9cf8-a1b9b75659da",
        "colab": {
          "base_uri": "https://localhost:8080/"
        }
      },
      "source": [
        "train_data_generator = train_datagen.flow_from_directory(train_dir,batch_size=20,target_size=(150,150),class_mode= 'binary')"
      ],
      "execution_count": null,
      "outputs": [
        {
          "output_type": "stream",
          "text": [
            "Found 2000 images belonging to 2 classes.\n"
          ],
          "name": "stdout"
        }
      ]
    },
    {
      "cell_type": "code",
      "metadata": {
        "id": "bNs0Zsx0TBg8",
        "outputId": "9e181726-360a-41b4-d070-00c241246c1d",
        "colab": {
          "base_uri": "https://localhost:8080/"
        }
      },
      "source": [
        "valid_data_generator = valid_datagen.flow_from_directory(valid_dir,batch_size=20,class_mode ='binary',target_size = (150,150))"
      ],
      "execution_count": null,
      "outputs": [
        {
          "output_type": "stream",
          "text": [
            "Found 1000 images belonging to 2 classes.\n"
          ],
          "name": "stdout"
        }
      ]
    },
    {
      "cell_type": "code",
      "metadata": {
        "id": "I1BxmjkbTw4D",
        "outputId": "4c56b486-d7d8-4200-dc06-f692076eb8db",
        "colab": {
          "base_uri": "https://localhost:8080/"
        }
      },
      "source": [
        "history = model.fit(train_data_generator,epochs=20,validation_data=valid_data_generator,steps_per_epoch=100,validation_steps=50,verbose =2)"
      ],
      "execution_count": null,
      "outputs": [
        {
          "output_type": "stream",
          "text": [
            "Epoch 1/20\n",
            "100/100 - 140s - loss: 0.3553 - accuracy: 0.8630 - val_loss: 0.1195 - val_accuracy: 0.9530\n",
            "Epoch 2/20\n",
            "100/100 - 136s - loss: 0.2367 - accuracy: 0.9090 - val_loss: 0.0988 - val_accuracy: 0.9660\n",
            "Epoch 3/20\n",
            "100/100 - 140s - loss: 0.1976 - accuracy: 0.9250 - val_loss: 0.1340 - val_accuracy: 0.9580\n",
            "Epoch 4/20\n",
            "100/100 - 133s - loss: 0.1888 - accuracy: 0.9380 - val_loss: 0.1211 - val_accuracy: 0.9620\n",
            "Epoch 5/20\n",
            "100/100 - 133s - loss: 0.2011 - accuracy: 0.9305 - val_loss: 0.2079 - val_accuracy: 0.9370\n",
            "Epoch 6/20\n",
            "100/100 - 132s - loss: 0.1866 - accuracy: 0.9350 - val_loss: 0.1086 - val_accuracy: 0.9660\n",
            "Epoch 7/20\n",
            "100/100 - 135s - loss: 0.1694 - accuracy: 0.9435 - val_loss: 0.1050 - val_accuracy: 0.9650\n",
            "Epoch 8/20\n",
            "100/100 - 132s - loss: 0.1888 - accuracy: 0.9380 - val_loss: 0.0920 - val_accuracy: 0.9670\n",
            "Epoch 9/20\n",
            "100/100 - 130s - loss: 0.1657 - accuracy: 0.9385 - val_loss: 0.0986 - val_accuracy: 0.9690\n",
            "Epoch 10/20\n",
            "100/100 - 135s - loss: 0.1536 - accuracy: 0.9510 - val_loss: 0.1115 - val_accuracy: 0.9720\n",
            "Epoch 11/20\n",
            "100/100 - 131s - loss: 0.1429 - accuracy: 0.9555 - val_loss: 0.1174 - val_accuracy: 0.9710\n",
            "Epoch 12/20\n",
            "100/100 - 131s - loss: 0.1759 - accuracy: 0.9490 - val_loss: 0.1280 - val_accuracy: 0.9630\n",
            "Epoch 13/20\n",
            "100/100 - 130s - loss: 0.1475 - accuracy: 0.9455 - val_loss: 0.1704 - val_accuracy: 0.9600\n",
            "Epoch 14/20\n",
            "100/100 - 131s - loss: 0.1275 - accuracy: 0.9570 - val_loss: 0.2413 - val_accuracy: 0.9410\n",
            "Epoch 15/20\n",
            "100/100 - 132s - loss: 0.1345 - accuracy: 0.9515 - val_loss: 0.1774 - val_accuracy: 0.9550\n",
            "Epoch 16/20\n",
            "100/100 - 141s - loss: 0.1493 - accuracy: 0.9550 - val_loss: 0.1254 - val_accuracy: 0.9680\n",
            "Epoch 17/20\n",
            "100/100 - 138s - loss: 0.1331 - accuracy: 0.9575 - val_loss: 0.1920 - val_accuracy: 0.9490\n",
            "Epoch 18/20\n",
            "100/100 - 136s - loss: 0.1151 - accuracy: 0.9605 - val_loss: 0.1424 - val_accuracy: 0.9630\n",
            "Epoch 19/20\n",
            "100/100 - 131s - loss: 0.1142 - accuracy: 0.9595 - val_loss: 0.1483 - val_accuracy: 0.9640\n",
            "Epoch 20/20\n",
            "100/100 - 132s - loss: 0.1127 - accuracy: 0.9595 - val_loss: 0.1341 - val_accuracy: 0.9660\n"
          ],
          "name": "stdout"
        }
      ]
    },
    {
      "cell_type": "code",
      "metadata": {
        "id": "yAzONZODUuLO",
        "outputId": "e0020c79-b492-4da7-b808-c3d4d1226dd9",
        "colab": {
          "base_uri": "https://localhost:8080/",
          "height": 530
        }
      },
      "source": [
        "import matplotlib.pyplot as plt\n",
        "acc= history.history['accuracy']\n",
        "val_acc =history.history['val_accuracy']\n",
        "loss= history.history['loss']\n",
        "val_loss= history.history['val_loss']\n",
        "epochs = range(len(acc))\n",
        "plt.plot(epochs,acc,'r',label='accuracy')\n",
        "plt.plot(epochs,val_acc,'b',label='val_accuracy')\n",
        "plt.figure()\n",
        "plt.legend(loc =0)\n",
        "\n",
        "plt.plot(epochs,loss,'r',label='loss')\n",
        "plt.plot(epochs,val_loss,'b',label='val_loss')\n",
        "plt.show()"
      ],
      "execution_count": null,
      "outputs": [
        {
          "output_type": "stream",
          "text": [
            "No handles with labels found to put in legend.\n"
          ],
          "name": "stderr"
        },
        {
          "output_type": "display_data",
          "data": {
            "image/png": "[encoded data removed]",
            "text/plain": [
              "<Figure size 432x288 with 1 Axes>"
            ]
          },
          "metadata": {
            "tags": [],
            "needs_background": "light"
          }
        },
        {
          "output_type": "display_data",
          "data": {
            "image/png": "[encoded data removed]",
            "text/plain": [
              "<Figure size 432x288 with 1 Axes>"
            ]
          },
          "metadata": {
            "tags": [],
            "needs_background": "light"
          }
        }
      ]
    },
    {
      "cell_type": "code",
      "metadata": {
        "id": "hSzAGnzWgMwR"
      },
      "source": [
        ""
      ],
      "execution_count": null,
      "outputs": []
    }
  ]
}