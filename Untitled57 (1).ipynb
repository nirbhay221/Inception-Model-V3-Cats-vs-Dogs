{
  "nbformat": 4,
  "nbformat_minor": 0,
  "metadata": {
    "colab": {
      "name": "Untitled57.ipynb",
      "provenance": [],
      "collapsed_sections": []
    },
    "kernelspec": {
      "name": "python3",
      "display_name": "Python 3"
    }
  },
  "cells": [
    {
      "cell_type": "code",
      "metadata": {
        "id": "BTO8D4HMI_yn"
      },
      "source": [
        "import os \n",
        "import tensorflow as tf\n",
        "import numpy as np \n",
        "from tensorflow.keras import layers\n",
        "from tensorflow.keras import Model\n",
        "from tensorflow.keras.optimizers import RMSprop\n",
        "import matplotlib.pyplot as plt\n",
        "\n",
        "from tensorflow.keras.applications.inception_v3 import InceptionV3"
      ],
      "execution_count": null,
      "outputs": []
    },
    {
      "cell_type": "code",
      "metadata": {
        "id": "X7ZbdTG1KYVZ",
        "outputId": "f9b150f1-a078-4736-d939-d925f9d07c52",
        "colab": {
          "base_uri": "https://localhost:8080/"
        }
      },
      "source": [
        "\n",
        "!wget --no-check-certificate \\\n",
        "    https://storage.googleapis.com/mledu-datasets/inception_v3_weights_tf_dim_ordering_tf_kernels_notop.h5 \\\n",
        "    -O /tmp/inception_v3_weights_tf_dim_ordering_tf_kernels_notop.h5\n",
        "  "
      ],
      "execution_count": null,
      "outputs": [
        {
          "output_type": "stream",
          "text": [
            "--2020-11-06 15:30:51--  https://storage.googleapis.com/mledu-datasets/inception_v3_weights_tf_dim_ordering_tf_kernels_notop.h5\n",
            "Resolving storage.googleapis.com (storage.googleapis.com)... 173.194.216.128, 173.194.217.128, 172.217.193.128, ...\n",
            "Connecting to storage.googleapis.com (storage.googleapis.com)|173.194.216.128|:443... connected.\n",
            "HTTP request sent, awaiting response... 200 OK\n",
            "Length: 87910968 (84M) [application/x-hdf]\n",
            "Saving to: ‘/tmp/inception_v3_weights_tf_dim_ordering_tf_kernels_notop.h5’\n",
            "\n",
            "/tmp/inception_v3_w 100%[===================>]  83.84M   218MB/s    in 0.4s    \n",
            "\n",
            "2020-11-06 15:30:52 (218 MB/s) - ‘/tmp/inception_v3_weights_tf_dim_ordering_tf_kernels_notop.h5’ saved [87910968/87910968]\n",
            "\n"
          ],
          "name": "stdout"
        }
      ]
    },
    {
      "cell_type": "code",
      "metadata": {
        "id": "S9j5KOH5KnIT"
      },
      "source": [
        "local_weights_file = '/tmp/inception_v3_weights_tf_dim_ordering_tf_kernels_notop.h5'"
      ],
      "execution_count": null,
      "outputs": []
    },
    {
      "cell_type": "code",
      "metadata": {
        "id": "1G1KMoA_Kq69"
      },
      "source": [
        "pretrained_model = InceptionV3(input_shape=(150,150,3),weights = None,include_top=False)"
      ],
      "execution_count": null,
      "outputs": []
    },
    {
      "cell_type": "code",
      "metadata": {
        "id": "Qhhic5sUKz5Z"
      },
      "source": [
        "pretrained_model.load_weights(local_weights_file)"
      ],
      "execution_count": null,
      "outputs": []
    },
    {
      "cell_type": "code",
      "metadata": {
        "id": "TpO-zCeJK7HF"
      },
      "source": [
        "for layer in pretrained_model.layers:\n",
        "  layer.trainable = False"
      ],
      "execution_count": null,
      "outputs": []
    },
    {
      "cell_type": "code",
      "metadata": {
        "id": "uDWks6JgLAbO"
      },
      "source": [
        "last_layer = pretrained_model.get_layer('mixed7')\n",
        "last_layer_output = last_layer.output"
      ],
      "execution_count": null,
      "outputs": []
    },
    {
      "cell_type": "code",
      "metadata": {
        "id": "qmjc1YQbLVwc"
      },
      "source": [
        "x= layers.Flatten()(last_layer_output)\n",
        "x= layers.Dense(1024,activation= 'relu')(x)\n",
        "x= layers.Dropout(0.2)(x)\n",
        "x= layers.Dense(1,activation = 'sigmoid')(x)"
      ],
      "execution_count": null,
      "outputs": []
    },
    {
      "cell_type": "code",
      "metadata": {
        "id": "Jx_CWT8KLxFe"
      },
      "source": [
        "model = Model(pretrained_model.input,x)"
      ],
      "execution_count": null,
      "outputs": []
    },
    {
      "cell_type": "code",
      "metadata": {
        "id": "jlQGlirsL2uk"
      },
      "source": [
        "model.compile(loss= 'binary_crossentropy',optimizer= RMSprop(lr=0.0001),metrics=['accuracy'])"
      ],
      "execution_count": null,
      "outputs": []
    },
    {
      "cell_type": "code",
      "metadata": {
        "id": "G_9VdrSVMTem",
        "outputId": "da5c49d2-e0d7-454c-c972-43f92c152afd",
        "colab": {
          "base_uri": "https://localhost:8080/"
        }
      },
      "source": [
        "!wget --no-check-certificate \\\n",
        "        https://storage.googleapis.com/mledu-datasets/cats_and_dogs_filtered.zip \\\n",
        "       -O /tmp/cats_and_dogs_filtered.zip"
      ],
      "execution_count": null,
      "outputs": [
        {
          "output_type": "stream",
          "text": [
            "--2020-11-06 16:03:26--  https://storage.googleapis.com/mledu-datasets/cats_and_dogs_filtered.zip\n",
            "Resolving storage.googleapis.com (storage.googleapis.com)... 172.217.193.128, 172.217.204.128, 172.217.203.128, ...\n",
            "Connecting to storage.googleapis.com (storage.googleapis.com)|172.217.193.128|:443... connected.\n",
            "HTTP request sent, awaiting response... 200 OK\n",
            "Length: 68606236 (65M) [application/zip]\n",
            "Saving to: ‘/tmp/cats_and_dogs_filtered.zip’\n",
            "\n",
            "/tmp/cats_and_dogs_ 100%[===================>]  65.43M   230MB/s    in 0.3s    \n",
            "\n",
            "2020-11-06 16:03:26 (230 MB/s) - ‘/tmp/cats_and_dogs_filtered.zip’ saved [68606236/68606236]\n",
            "\n"
          ],
          "name": "stdout"
        }
      ]
    },
    {
      "cell_type": "code",
      "metadata": {
        "id": "SQlLUTEGMZGQ"
      },
      "source": [
        "local_dir= '/tmp/cats_and_dogs_filtered.zip'"
      ],
      "execution_count": null,
      "outputs": []
    },
    {
      "cell_type": "code",
      "metadata": {
        "id": "TpqYByM9Mdfb"
      },
      "source": [
        "zip_ref = zipfile.ZipFile(local_dir,'r')\n",
        "zip_ref.extractall('/tmp')\n",
        "zip_ref.close()"
      ],
      "execution_count": null,
      "outputs": []
    },
    {
      "cell_type": "code",
      "metadata": {
        "id": "RWXR3_-cMljA"
      },
      "source": [
        "base_dir = '/tmp/cats_and_dogs_filtered'\n",
        "train_dir = os.path.join(base_dir,'train')\n",
        "val_dir = os.path.join(base_dir,'validation')\n",
        "train_cats_dir=os.path.join(train_dir,'cats')\n",
        "train_dogs_dir=os.path.join(train_dir,'dogs')\n",
        "val_cats_dir=os.path.join(val_dir,'cats')\n",
        "val_dogs_dir=os.path.join(val_dir,'dogs')\n"
      ],
      "execution_count": null,
      "outputs": []
    },
    {
      "cell_type": "code",
      "metadata": {
        "id": "zmJxujleMsMu"
      },
      "source": [
        "train_datagen = ImageDataGenerator(rescale=1.0/255.,\n",
        "                                   rotation_range= 40,\n",
        "                                   zoom_range= 0.2,width_shift_range=0.2,height_shift_range =0.2,fill_mode= 'nearest',horizontal_flip=True,shear_range= True)"
      ],
      "execution_count": null,
      "outputs": []
    },
    {
      "cell_type": "code",
      "metadata": {
        "id": "d_Ls1xsTNbKI"
      },
      "source": [
        "val_datagen = ImageDataGenerator(rescale=1.0/255.)"
      ],
      "execution_count": null,
      "outputs": []
    },
    {
      "cell_type": "code",
      "metadata": {
        "id": "CGUt3S3DNgLe",
        "outputId": "2a503e4e-2662-46ff-fd6a-12781336a6a1",
        "colab": {
          "base_uri": "https://localhost:8080/"
        }
      },
      "source": [
        "train_data_generator = train_datagen.flow_from_directory(train_dir,class_mode='binary',batch_size=20,target_size=(150,150))"
      ],
      "execution_count": null,
      "outputs": [
        {
          "output_type": "stream",
          "text": [
            "Found 2000 images belonging to 2 classes.\n"
          ],
          "name": "stdout"
        }
      ]
    },
    {
      "cell_type": "code",
      "metadata": {
        "id": "HXzjIRc7Nw6X",
        "outputId": "1c707fa0-319c-4aa2-ff87-1e3bdaaeee63",
        "colab": {
          "base_uri": "https://localhost:8080/"
        }
      },
      "source": [
        "val_data_generator= val_datagen.flow_from_directory(val_dir,batch_size =20,class_mode='binary',target_size=(150,150))"
      ],
      "execution_count": null,
      "outputs": [
        {
          "output_type": "stream",
          "text": [
            "Found 1000 images belonging to 2 classes.\n"
          ],
          "name": "stdout"
        }
      ]
    },
    {
      "cell_type": "code",
      "metadata": {
        "id": "N8CXL5YdRdcu",
        "outputId": "c50d615c-23b7-4582-e945-961c1be7e6f0",
        "colab": {
          "base_uri": "https://localhost:8080/"
        }
      },
      "source": [
        "history = model.fit(train_data_generator,epochs=20,steps_per_epoch=100,validation_steps=50,validation_data=val_data_generator,verbose =2)"
      ],
      "execution_count": null,
      "outputs": [
        {
          "output_type": "stream",
          "text": [
            "Epoch 1/20\n",
            "100/100 - 163s - loss: 0.2212 - accuracy: 0.9080 - val_loss: 0.2072 - val_accuracy: 0.9240\n",
            "Epoch 2/20\n",
            "100/100 - 156s - loss: 0.2234 - accuracy: 0.9235 - val_loss: 0.0958 - val_accuracy: 0.9630\n",
            "Epoch 3/20\n",
            "100/100 - 157s - loss: 0.1877 - accuracy: 0.9275 - val_loss: 0.1293 - val_accuracy: 0.9560\n",
            "Epoch 4/20\n",
            "100/100 - 158s - loss: 0.1976 - accuracy: 0.9300 - val_loss: 0.1123 - val_accuracy: 0.9610\n",
            "Epoch 5/20\n",
            "100/100 - 160s - loss: 0.1431 - accuracy: 0.9505 - val_loss: 0.1249 - val_accuracy: 0.9590\n",
            "Epoch 6/20\n",
            "100/100 - 153s - loss: 0.1940 - accuracy: 0.9290 - val_loss: 0.1085 - val_accuracy: 0.9680\n",
            "Epoch 7/20\n",
            "100/100 - 158s - loss: 0.1666 - accuracy: 0.9455 - val_loss: 0.1155 - val_accuracy: 0.9690\n",
            "Epoch 8/20\n",
            "100/100 - 154s - loss: 0.1667 - accuracy: 0.9410 - val_loss: 0.1211 - val_accuracy: 0.9670\n",
            "Epoch 9/20\n",
            "100/100 - 163s - loss: 0.1572 - accuracy: 0.9435 - val_loss: 0.1021 - val_accuracy: 0.9670\n",
            "Epoch 10/20\n",
            "100/100 - 161s - loss: 0.1494 - accuracy: 0.9455 - val_loss: 0.1216 - val_accuracy: 0.9610\n",
            "Epoch 11/20\n",
            "100/100 - 161s - loss: 0.1490 - accuracy: 0.9500 - val_loss: 0.1429 - val_accuracy: 0.9570\n",
            "Epoch 12/20\n",
            "100/100 - 165s - loss: 0.1695 - accuracy: 0.9460 - val_loss: 0.1115 - val_accuracy: 0.9630\n",
            "Epoch 13/20\n",
            "100/100 - 162s - loss: 0.1613 - accuracy: 0.9455 - val_loss: 0.1109 - val_accuracy: 0.9670\n",
            "Epoch 14/20\n",
            "100/100 - 162s - loss: 0.1645 - accuracy: 0.9485 - val_loss: 0.1021 - val_accuracy: 0.9670\n",
            "Epoch 15/20\n",
            "100/100 - 162s - loss: 0.1272 - accuracy: 0.9560 - val_loss: 0.1366 - val_accuracy: 0.9610\n",
            "Epoch 16/20\n",
            "100/100 - 164s - loss: 0.1330 - accuracy: 0.9535 - val_loss: 0.1009 - val_accuracy: 0.9660\n",
            "Epoch 17/20\n",
            "100/100 - 162s - loss: 0.1314 - accuracy: 0.9575 - val_loss: 0.0935 - val_accuracy: 0.9640\n",
            "Epoch 18/20\n",
            "100/100 - 163s - loss: 0.1066 - accuracy: 0.9600 - val_loss: 0.1079 - val_accuracy: 0.9710\n",
            "Epoch 19/20\n",
            "100/100 - 160s - loss: 0.1305 - accuracy: 0.9605 - val_loss: 0.1899 - val_accuracy: 0.9590\n",
            "Epoch 20/20\n",
            "100/100 - 167s - loss: 0.1265 - accuracy: 0.9565 - val_loss: 0.1151 - val_accuracy: 0.9720\n"
          ],
          "name": "stdout"
        }
      ]
    },
    {
      "cell_type": "code",
      "metadata": {
        "id": "fBu-w0P3SBHx",
        "outputId": "cf1b7f9c-c7d8-4342-92c1-94a78d62b464",
        "colab": {
          "base_uri": "https://localhost:8080/",
          "height": 731
        }
      },
      "source": [
        "acc= history.history['accuracy']\n",
        "val_acc= history.history['val_accuracy']\n",
        "loss= history.history['loss']\n",
        "val_loss = history.history['val_loss']\n",
        "epochs= range(len(acc))\n",
        "plt.figure(figsize=(10,6))\n",
        "plt.plot(epochs,acc,'r',label='accuracy')\n",
        "plt.plot(epochs,val_acc,'b',label='val_accuracy')\n",
        "plt.show()\n",
        "plt.figure(figsize=(10,6))\n",
        "plt.plot(epochs,loss,'r',label='loss')\n",
        "plt.plot(epochs,val_loss,'b',label='val_loss')\n",
        "plt.show()"
      ],
      "execution_count": null,
      "outputs": [
        {
          "output_type": "display_data",
          "data": {
            "image/png": "[encoded data removed]",
            "text/plain": [
              "<Figure size 720x432 with 1 Axes>"
            ]
          },
          "metadata": {
            "tags": [],
            "needs_background": "light"
          }
        },
        {
          "output_type": "display_data",
          "data": {
            "image/png": "[encoded data removed]",
            "text/plain": [
              "<Figure size 720x432 with 1 Axes>"
            ]
          },
          "metadata": {
            "tags": [],
            "needs_background": "light"
          }
        }
      ]
    },
    {
      "cell_type": "code",
      "metadata": {
        "id": "zF4mGsbrTDI1"
      },
      "source": [
        ""
      ],
      "execution_count": null,
      "outputs": []
    }
  ]
}